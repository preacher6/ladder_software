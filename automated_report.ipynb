{
 "metadata": {
  "language_info": {
   "codemirror_mode": {
    "name": "ipython",
    "version": 3
   },
   "file_extension": ".py",
   "mimetype": "text/x-python",
   "name": "python",
   "nbconvert_exporter": "python",
   "pygments_lexer": "ipython3",
   "version": "3.7.9-final"
  },
  "orig_nbformat": 2,
  "kernelspec": {
   "name": "python3",
   "display_name": "Python 3.7.9 64-bit",
   "metadata": {
    "interpreter": {
     "hash": "529c9f8759bede575fc3c1c0a7d57d5ffc5b30205a4d6a007108b8ded7bffe54"
    }
   }
  }
 },
 "nbformat": 4,
 "nbformat_minor": 2,
 "cells": [
  {
   "cell_type": "code",
   "execution_count": 8,
   "metadata": {},
   "outputs": [
    {
     "output_type": "execute_result",
     "data": {
      "text/plain": [
       "''"
      ]
     },
     "metadata": {},
     "execution_count": 8
    }
   ],
   "source": [
    "from fpdf import FPDF\n",
    "bobo = 'melanie'\n",
    "pdf = FPDF()\n",
    "pdf.add_page()\n",
    "pdf.set_font('Arial', 'B', 16)\n",
    "pdf.cell(60, 10, f'Hello World! {bobo}', 1, align='C')\n",
    "pdf.output('tuto1.pdf', 'F')"
   ]
  },
  {
   "cell_type": "code",
   "execution_count": 51,
   "metadata": {},
   "outputs": [
    {
     "output_type": "stream",
     "name": "stdout",
     "text": [
      "3\n"
     ]
    }
   ],
   "source": [
    "ar = [10, 20, 20, 10, 10, 30, 50, 10, 20]\n",
    "n=9\n",
    "if len(ar)==n:\n",
    "    sockMerchant(n, ar)\n"
   ]
  },
  {
   "cell_type": "code",
   "execution_count": 50,
   "metadata": {},
   "outputs": [],
   "source": [
    "def sockMerchant(n, ar):\n",
    "    lista_unicos = []\n",
    "    for elem in ar:\n",
    "        if elem not in lista_unicos:\n",
    "            lista_unicos.append(elem)\n",
    "    pares = count_items(ar, lista_unicos)\n",
    "    print(pares)"
   ]
  },
  {
   "cell_type": "code",
   "execution_count": 49,
   "metadata": {},
   "outputs": [],
   "source": [
    "def count_items(ar, lista_unicos):    \n",
    "    pares_totales = 0\n",
    "    for item in lista_unicos:\n",
    "        value = 0\n",
    "        for elem in ar:\n",
    "            if item == elem:\n",
    "                value += 1\n",
    "        if value>1:\n",
    "            if value%2!=0:\n",
    "                value -= 1\n",
    "            pares = value//2\n",
    "        else:\n",
    "            pares = 0\n",
    "        pares_totales+=pares\n",
    "    return pares_totales"
   ]
  },
  {
   "cell_type": "code",
   "execution_count": 53,
   "metadata": {},
   "outputs": [],
   "source": [
    "steps = 8\n",
    "path = 'UDDDUDUU'\n",
    "\n",
    "weights = {'D':-1, 'U':1}"
   ]
  },
  {
   "cell_type": "code",
   "execution_count": 67,
   "metadata": {},
   "outputs": [
    {
     "output_type": "stream",
     "name": "stdout",
     "text": [
      "1\n"
     ]
    }
   ],
   "source": [
    "countingValleys(steps, path)"
   ]
  },
  {
   "cell_type": "code",
   "execution_count": 66,
   "metadata": {},
   "outputs": [],
   "source": [
    "def countingValleys(steps, path):\n",
    "    value = 0\n",
    "    valles = 0\n",
    "    reinicio = True\n",
    "    for elem in path:\n",
    "        value += weights[elem]\n",
    "        if value < 0:\n",
    "            if reinicio:\n",
    "                valles += 1\n",
    "                reinicio = False\n",
    "        elif value >= 0:\n",
    "            reinicio = True\n",
    "    print(valles)"
   ]
  },
  {
   "cell_type": "code",
   "execution_count": 70,
   "metadata": {},
   "outputs": [],
   "source": [
    "import numpy as np"
   ]
  },
  {
   "cell_type": "code",
   "execution_count": 101,
   "metadata": {},
   "outputs": [],
   "source": [
    "array_x = np.array([[1, 1, 1, 0, 0, 0],\n",
    "                  [0, 1, 0, 0, 0, 0],\n",
    "                  [1, 1, 1, 0, 0, 0],\n",
    "                  [0, 0, 2, 4, 4, 0],\n",
    "                  [0, 0, 0, 2, 0, 0],\n",
    "                  [0, 0, 1, 2, 4, 0]])"
   ]
  },
  {
   "cell_type": "code",
   "execution_count": 102,
   "metadata": {},
   "outputs": [
    {
     "output_type": "stream",
     "name": "stdout",
     "text": [
      "[[1 1 1]\n [1 1 1]]\n[[1 1 0]\n [1 1 0]]\n[[1 0 0]\n [1 0 0]]\n[[0 0 0]\n [0 0 0]]\n[[0 1 0]\n [0 0 2]]\n[[1 0 0]\n [0 2 4]]\n[[0 0 0]\n [2 4 4]]\n[[0 0 0]\n [4 4 0]]\n[[1 1 1]\n [0 0 0]]\n[[1 1 0]\n [0 0 2]]\n[[1 0 0]\n [0 2 0]]\n[[0 0 0]\n [2 0 0]]\n[[0 0 2]\n [0 0 1]]\n[[0 2 4]\n [0 1 2]]\n[[2 4 4]\n [1 2 4]]\n[[4 4 0]\n [2 4 0]]\n"
     ]
    },
    {
     "output_type": "execute_result",
     "data": {
      "text/plain": [
       "array([[ 7.,  5.,  2.,  0.],\n",
       "       [ 6.,  9., 11.,  8.],\n",
       "       [ 5., 10., 13., 10.],\n",
       "       [ 3., 11., 19., 16.]])"
      ]
     },
     "metadata": {},
     "execution_count": 102
    }
   ],
   "source": [
    "dim_clock = [3, 3]\n",
    "array_x.shape\n",
    "pos_clock = [array_x.shape[0]+1-dim_clock[0], array_x.shape[1]+1-dim_clock[1]]\n",
    "cont_sumas = np.zeros(pos_clock)\n",
    "\n",
    "for i in range(pos_clock[0]):\n",
    "    for j in range(pos_clock[1]):\n",
    "        print(array_x[i:dim_clock[0]+i, j:dim_clock[1]+j])\n",
    "        cont_sumas[i, j] = np.sum(array_x[i:dim_clock[0]+i, j:dim_clock[1]+j])\n",
    "        \n",
    "cont_sumas"
   ]
  }
 ]
}